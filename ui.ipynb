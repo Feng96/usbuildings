{
 "cells": [
  {
   "cell_type": "code",
   "execution_count": 16,
   "metadata": {},
   "outputs": [],
   "source": [
    "import ipywidgets as widgets\n",
    "from ipyleaflet import Map, WidgetControl\n",
    "import geopandas as gpd"
   ]
  },
  {
   "cell_type": "code",
   "execution_count": 26,
   "metadata": {},
   "outputs": [],
   "source": [
    "# Path to your shapefile\n",
    "shapefile_path = './county_boundary/cb_2018_us_county_5m.shp'\n",
    "\n",
    "# Reading the shapefile\n",
    "gdf = gpd.read_file(shapefile_path)\n",
    "projected_gdf = gdf.to_crs(epsg=2163)\n",
    "\n"
   ]
  },
  {
   "cell_type": "code",
   "execution_count": 14,
   "metadata": {},
   "outputs": [],
   "source": [
    "state_fips_mapping = {\n",
    "    '01': 'AL', '02': 'AK', '04': 'AZ', '05': 'AR', '06': 'CA',\n",
    "    '08': 'CO', '09': 'CT', '10': 'DE', '12': 'FL', '13': 'GA',\n",
    "    '15': 'HI', '16': 'ID', '17': 'IL', '18': 'IN', '19': 'IA',\n",
    "    '20': 'KS', '21': 'KY', '22': 'LA', '23': 'ME', '24': 'MD',\n",
    "    '25': 'MA', '26': 'MI', '27': 'MN', '28': 'MS', '29': 'MO',\n",
    "    '30': 'MT', '31': 'NE', '32': 'NV', '33': 'NH', '34': 'NJ',\n",
    "    '35': 'NM', '36': 'NY', '37': 'NC', '38': 'ND', '39': 'OH',\n",
    "    '40': 'OK', '41': 'OR', '42': 'PA', '44': 'RI', '45': 'SC',\n",
    "    '46': 'SD', '47': 'TN', '48': 'TX', '49': 'UT', '50': 'VT',\n",
    "    '51': 'VA', '53': 'WA', '54': 'WV', '55': 'WI', '56': 'WY'\n",
    "}"
   ]
  },
  {
   "cell_type": "code",
   "execution_count": 35,
   "metadata": {},
   "outputs": [],
   "source": [
    "# Update state names in the GeoDataFrame using the mapping\n",
    "gdf['StateName'] = gdf['STATEFP'].apply(lambda x: state_fips_mapping.get(x, ''))\n",
    "\n",
    "# Dropdown for states\n",
    "state_dropdown = widgets.Dropdown(\n",
    "    options=[''] + sorted(gdf['StateName'].unique()),\n",
    "    description='State:',\n",
    "    disabled=False,\n",
    ")\n",
    "\n",
    "# Dropdown for counties (initially empty)\n",
    "county_dropdown = widgets.Dropdown(\n",
    "    description='County:',\n",
    "    disabled=True,  # Disabled until a state is selected\n",
    ")\n",
    "\n",
    "def update_county_dropdown(*args):\n",
    "    selected_state = state_dropdown.value\n",
    "    if selected_state:\n",
    "        filtered_gdf = gdf[gdf['StateName'] == selected_state]\n",
    "        county_dropdown.options = [''] + sorted(filtered_gdf['NAME'].unique())\n",
    "        county_dropdown.disabled = False\n",
    "    else:\n",
    "        county_dropdown.options = []\n",
    "        county_dropdown.disabled = True\n",
    "\n",
    "state_dropdown.observe(update_county_dropdown, 'value')\n",
    "\n",
    "# Initialize the map\n",
    "mymap = Map(center=(37.0902, -95.7129), zoom=3)  # Default center of the US\n",
    "\n",
    "def on_county_change(change):\n",
    "    selected_county = change['new']\n",
    "    if selected_county:\n",
    "        # Filter the projected GeoDataFrame for the selected county\n",
    "        county_gdf_projected = projected_gdf[projected_gdf['NAME'] == selected_county]\n",
    "\n",
    "        # Calculate the centroid in the projected CRS\n",
    "        centroid_projected = county_gdf_projected.geometry.centroid.iloc[0]\n",
    "\n",
    "        # Since centroid_projected is in the projected CRS, we need to transform its coordinates back to EPSG:4326\n",
    "        # Create a GeoSeries with the centroid and transform it\n",
    "        centroid_latlon = gpd.GeoSeries([centroid_projected], crs=projected_gdf.crs).to_crs(epsg=4326).iloc[0]\n",
    "\n",
    "        lat, lon = centroid_latlon.y, centroid_latlon.x\n",
    "\n",
    "        # Update the map view without adding a new marker\n",
    "        mymap.center = (lat, lon)\n",
    "        mymap.zoom = 12\n",
    "\n",
    "county_dropdown.observe(on_county_change, names='value')\n",
    "\n",
    "# Tool for the toolbox\n",
    "tool = widgets.VBox([state_dropdown, county_dropdown])\n",
    "\n",
    "# Create a WidgetControl for the toolbox tool\n",
    "toolbox_control = WidgetControl(widget=tool, position='topright')\n",
    "\n",
    "# Add the toolbox control to the map\n",
    "mymap.add_control(toolbox_control)"
   ]
  },
  {
   "cell_type": "code",
   "execution_count": 36,
   "metadata": {},
   "outputs": [
    {
     "data": {
      "application/vnd.jupyter.widget-view+json": {
       "model_id": "b9045292198f424eaf2e401613779a7f",
       "version_major": 2,
       "version_minor": 0
      },
      "text/plain": [
       "Map(center=[37.0902, -95.7129], controls=(ZoomControl(options=['position', 'zoom_in_text', 'zoom_in_title', 'z…"
      ]
     },
     "metadata": {},
     "output_type": "display_data"
    }
   ],
   "source": [
    "mymap\n"
   ]
  }
 ],
 "metadata": {
  "kernelspec": {
   "display_name": "geos",
   "language": "python",
   "name": "python3"
  },
  "language_info": {
   "codemirror_mode": {
    "name": "ipython",
    "version": 3
   },
   "file_extension": ".py",
   "mimetype": "text/x-python",
   "name": "python",
   "nbconvert_exporter": "python",
   "pygments_lexer": "ipython3",
   "version": "3.10.10"
  }
 },
 "nbformat": 4,
 "nbformat_minor": 2
}
